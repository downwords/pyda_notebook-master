{
 "cells": [
  {
   "cell_type": "markdown",
   "metadata": {},
   "source": [
    "### Комментарии в коде"
   ]
  },
  {
   "cell_type": "code",
   "execution_count": null,
   "metadata": {},
   "outputs": [],
   "source": [
    "# комментарии игнорируются интерпретатором"
   ]
  },
  {
   "cell_type": "code",
   "execution_count": null,
   "metadata": {},
   "outputs": [],
   "source": [
    "\"\"\"\n",
    "Рекомендуется писать комментарии при объевлении неочевидной функции.\n",
    "А также в начале кода для объяснения, что вообще должна сделать программа.\n",
    "Пиши комментарий, если произошли внешние исторические условия, которые никак не проистекают\n",
    "из кода\n",
    "\"\"\""
   ]
  },
  {
   "cell_type": "markdown",
   "metadata": {},
   "source": [
    "### Арифметические операции"
   ]
  },
  {
   "cell_type": "code",
   "execution_count": null,
   "metadata": {},
   "outputs": [],
   "source": [
    "x = 0 + 1 #сложение\n",
    "print('x =', x)\n",
    "\n",
    "y = 5 - 3 #вычитание\n",
    "print('y =', y)\n",
    "\n",
    "xy = 2 * x * y #умножение\n",
    "print('xy =', xy)\n",
    "\n",
    "xx = xy / 0.5 #деление, автоматом переводит во float\n",
    "print('xx =', xx)\n",
    "\n",
    "xz = xx // 3 #целочисленное деление\n",
    "print('xz =', xz)\n",
    "\n",
    "yz = xz ** xx #возведение в степень\n",
    "print('yz =', yz)\n",
    "\n",
    "zz = yz % 100 #взятие остатка от деления\n",
    "print('zz =', zz)"
   ]
  },
  {
   "cell_type": "code",
   "execution_count": null,
   "metadata": {},
   "outputs": [],
   "source": [
    "# питон соблюдает стандартное математическое представление о порядке операций\n",
    "# поскольку систем баз данных много, чтобы получить результат наверняка, используйте скобки\n",
    "\n",
    "ww = 2 + 2 * 2\n",
    "print(ww)"
   ]
  },
  {
   "cell_type": "markdown",
   "metadata": {},
   "source": [
    "### Операторы Сравнения"
   ]
  },
  {
   "cell_type": "code",
   "execution_count": null,
   "metadata": {},
   "outputs": [],
   "source": [
    "qx = 1\n",
    "qy = 2\n",
    "\n",
    "qx < qy # выдаст True. также <=\n",
    "\n",
    "qx > qy # выдаст False. также >=\n",
    "\n",
    "qx == qy # проверка равенства, выдаст False\n",
    "\n",
    "qx != qy # неравно, выдаст True\n",
    "\n",
    "1 > 2 < 3 # первая проверка выдаст False, все неравство = False\n",
    "\n",
    "'A' > 'a' # сравнение строк идёт по алфавиту, строчные меньше, чем заглавные\n",
    "\n",
    "len('abc') > len('abcde') # False. у всего можно посчитать продолжительность в элементах. у строк - это символы"
   ]
  },
  {
   "cell_type": "markdown",
   "metadata": {},
   "source": [
    "### Условные конструкции"
   ]
  },
  {
   "cell_type": "code",
   "execution_count": null,
   "metadata": {},
   "outputs": [],
   "source": [
    "e1 = 3\n",
    "e2 = 1\n",
    "\n",
    "if e2 > e1:\n",
    "    print('1')\n",
    "elif e2 == e1:\n",
    "    print('2')\n",
    "else:\n",
    "    print('3')"
   ]
  },
  {
   "cell_type": "code",
   "execution_count": null,
   "metadata": {},
   "outputs": [],
   "source": [
    "0 < 1 or 2 > 3 # одно условие выполнено"
   ]
  },
  {
   "cell_type": "code",
   "execution_count": null,
   "metadata": {},
   "outputs": [],
   "source": [
    "0 < 1 and 2 > 3 # ни одно условие не выполнено"
   ]
  },
  {
   "cell_type": "markdown",
   "metadata": {},
   "source": [
    "### Типы данных"
   ]
  },
  {
   "cell_type": "code",
   "execution_count": null,
   "metadata": {},
   "outputs": [],
   "source": [
    "x12 = int(5) # целое число\n",
    "print(x12)\n",
    "\n",
    "y12 = float(5) # дробное число\n",
    "print(y12)\n",
    "\n",
    "z12 = str('5 - 1') # строка\n",
    "print(z12)\n",
    "\n",
    "o12 = bool(0 == 5) # True или False\n",
    "print(o12)\n",
    "\n",
    "if type(x12) == int: # проверка типа данных\n",
    "    v12 = 'qwerty'\n",
    "    \n",
    "print(v12)\n"
   ]
  },
  {
   "cell_type": "code",
   "execution_count": null,
   "metadata": {},
   "outputs": [],
   "source": [
    "yut = 1200\n",
    "uyt = '1200'\n",
    "\n",
    "print('word ' + str(yut) + ' another word') #перевод в строковый тип\n",
    "\n",
    "print(1200 + int(uyt) + 1200) #перевод в число"
   ]
  },
  {
   "cell_type": "markdown",
   "metadata": {},
   "source": [
    "### Строки (string), операции с ними"
   ]
  },
  {
   "cell_type": "code",
   "execution_count": null,
   "metadata": {},
   "outputs": [],
   "source": [
    "dq1 = 'str1' + 'STR2' # конкатенация строк\n",
    "print(dq1)\n",
    "\n",
    "dq2 = dq1 * 4 # умножение строк\n",
    "print(dq2)\n",
    "\n",
    "print(dq1.upper())\n",
    "\n",
    "print(dq1.lower())\n",
    "\n",
    "print(dq1.capitalize())\n",
    "\n",
    "print(dq1.replace('t', 'QWERTY')) # что, на что\n",
    "\n",
    "print(len(dq1))"
   ]
  },
  {
   "cell_type": "code",
   "execution_count": null,
   "metadata": {},
   "outputs": [],
   "source": [
    "# индексация строк, срезы\n",
    "mystring12 = 'index'\n",
    "\n",
    "print(mystring12[0]) # первый\n",
    "print(mystring12[-5]) # последний от граница -1/0 назад\n",
    "print(mystring12[0:3:1]) #последнее не входит, шаг 1\n",
    "print(mystring12[-1]) # последний в строке (всегда)\n",
    "print(mystring12[0:]) # все, начиная с первого\n",
    "print(mystring12[:2]) # все, до второго, включительно"
   ]
  },
  {
   "cell_type": "code",
   "execution_count": null,
   "metadata": {},
   "outputs": [],
   "source": [
    "# операторы вхождения\n",
    "\n",
    "if 'n' in mystring12:\n",
    "    print('1')\n",
    "if 'q' not in mystring12:\n",
    "    print('1')"
   ]
  },
  {
   "cell_type": "code",
   "execution_count": null,
   "metadata": {},
   "outputs": [],
   "source": [
    "# f-строки\n",
    "\n",
    "str10 = 'qwert'\n",
    "gig10 = 'gigqwert'\n",
    "\n",
    "text = f\"{str10} // {yut} // {gig10}\" # простой способ обозначить строку со включениями - и преобразовать в str\n",
    "print(text)"
   ]
  },
  {
   "cell_type": "markdown",
   "metadata": {},
   "source": [
    "### Списки (list)"
   ]
  },
  {
   "cell_type": "code",
   "execution_count": null,
   "metadata": {},
   "outputs": [],
   "source": [
    "# набор элементов внутри [], разделяются запятыми\n",
    "# внутри могут быть элементы любых типов данных"
   ]
  },
  {
   "cell_type": "code",
   "execution_count": null,
   "metadata": {},
   "outputs": [],
   "source": [
    "month = ['jan', 'feb', 'mar']\n",
    "money = [100, 200, 300]\n",
    "income = [['jan', 100], ['feb', 200], ['mar', 300]]\n",
    "income[0][1] = income[0][1] + 100\n",
    "print(type(income))\n",
    "print(income[0])\n",
    "print(income[0][0])\n",
    "print(income[1:2]) # так же как со строками\n",
    "\n",
    "month_money = month + money\n",
    "print(month_money)\n",
    "\n",
    "a, b, c, d = [1, 2, 3, 4]\n",
    "print(a, b, c, d)"
   ]
  },
  {
   "cell_type": "code",
   "execution_count": null,
   "metadata": {},
   "outputs": [],
   "source": [
    "first, *other, last = ['первый', 'второй', 'третий', 'четвертый']\n",
    "print(other)"
   ]
  },
  {
   "cell_type": "code",
   "execution_count": null,
   "metadata": {},
   "outputs": [],
   "source": [
    "del(month[0]) # удалить по номеру\n",
    "month"
   ]
  },
  {
   "cell_type": "code",
   "execution_count": null,
   "metadata": {},
   "outputs": [],
   "source": [
    "month.remove('feb') # удалить по названию\n",
    "month"
   ]
  },
  {
   "cell_type": "code",
   "execution_count": null,
   "metadata": {},
   "outputs": [],
   "source": [
    "month.append('apr') # добавить\n",
    "month"
   ]
  },
  {
   "cell_type": "code",
   "execution_count": null,
   "metadata": {},
   "outputs": [],
   "source": [
    "month.count('apr') #счет количеств вхождений"
   ]
  },
  {
   "cell_type": "code",
   "execution_count": null,
   "metadata": {},
   "outputs": [],
   "source": [
    "month.index('apr') # номер, на котором объект"
   ]
  },
  {
   "cell_type": "code",
   "execution_count": null,
   "metadata": {},
   "outputs": [],
   "source": [
    "month.reverse() # меняет сам объект\n",
    "month"
   ]
  },
  {
   "cell_type": "code",
   "execution_count": null,
   "metadata": {},
   "outputs": [],
   "source": [
    "print(sorted(month)) # не меняет объект\n"
   ]
  },
  {
   "cell_type": "code",
   "execution_count": null,
   "metadata": {},
   "outputs": [],
   "source": [
    "print(sorted(month, reverse= True)) #обратный порядок сортировки"
   ]
  },
  {
   "cell_type": "code",
   "execution_count": null,
   "metadata": {},
   "outputs": [],
   "source": [
    "min(money) #минимум в списке"
   ]
  },
  {
   "cell_type": "code",
   "execution_count": null,
   "metadata": {},
   "outputs": [],
   "source": [
    "max(money) #максимум в списке"
   ]
  },
  {
   "cell_type": "code",
   "execution_count": null,
   "metadata": {},
   "outputs": [],
   "source": [
    "# при приравнивании переменной к списку, новый объект не создается\n",
    "import copy # позволяет создать новый объект\n",
    "a = [1, 2, 3]\n",
    "b = copy.copy(a)\n",
    "b.append(4)\n",
    "print(a)\n",
    "print(b)"
   ]
  },
  {
   "cell_type": "markdown",
   "metadata": {},
   "source": [
    "### Списки и строки"
   ]
  },
  {
   "cell_type": "code",
   "execution_count": null,
   "metadata": {},
   "outputs": [],
   "source": [
    "string11 = \"Строка — ряд знаков, написанных или напечатанных в одну линию. Строка может также означать: Строковый тип — тип данных в программировании. Строка (река) — река в Свердловской области.\"\n",
    "\n"
   ]
  },
  {
   "cell_type": "code",
   "execution_count": null,
   "metadata": {},
   "outputs": [],
   "source": [
    "# преобразование строки в список\n",
    "\n",
    "list11 = string11.split(' ')\n",
    "if 'Москва' not in list11:\n",
    "    list11.append('Москва')\n",
    "list11\n"
   ]
  },
  {
   "cell_type": "code",
   "execution_count": null,
   "metadata": {},
   "outputs": [],
   "source": [
    "print(','.join(list11)) # преобразование списка в строку"
   ]
  },
  {
   "cell_type": "markdown",
   "metadata": {},
   "source": [
    "### Кортежи (tuples)"
   ]
  },
  {
   "cell_type": "code",
   "execution_count": 4,
   "metadata": {},
   "outputs": [
    {
     "name": "stdout",
     "output_type": "stream",
     "text": [
      "(1000, 2000, 3000, 4500)\n",
      "[1000, 2000, 3000, 4500]\n",
      "('one',)\n"
     ]
    }
   ],
   "source": [
    "# неизменяемые списки, занимают меньше памяти\n",
    "tuple2 = (1000, 2000, 3000, 4500)\n",
    "print(tuple2) #он кортеж\n",
    "list2 = list(tuple2)\n",
    "print(list2) # он список\n",
    "\n",
    "tup = ('one', ) # так создать кортеж из одногоо элемента\n",
    "print(tup)"
   ]
  },
  {
   "cell_type": "code",
   "execution_count": 7,
   "metadata": {},
   "outputs": [
    {
     "data": {
      "text/plain": [
       "[(1000, 'one'), (2000, 'two'), (3000, 'three'), (4500, 'four')]"
      ]
     },
     "execution_count": 7,
     "metadata": {},
     "output_type": "execute_result"
    }
   ],
   "source": [
    "tuple3 = ('one', 'two', 'three', 'four')\n",
    "zip_object = zip(tuple2, tuple3) # создать зип-объект из нескольких кортежей\n",
    "\n",
    "list(zip_object) # сделать его списком, списком кортежей"
   ]
  },
  {
   "cell_type": "code",
   "execution_count": null,
   "metadata": {},
   "outputs": [],
   "source": []
  }
 ],
 "metadata": {
  "kernelspec": {
   "display_name": "Python 3",
   "language": "python",
   "name": "python3"
  },
  "language_info": {
   "codemirror_mode": {
    "name": "ipython",
    "version": 3
   },
   "file_extension": ".py",
   "mimetype": "text/x-python",
   "name": "python",
   "nbconvert_exporter": "python",
   "pygments_lexer": "ipython3",
   "version": "3.8.3"
  }
 },
 "nbformat": 4,
 "nbformat_minor": 4
}
